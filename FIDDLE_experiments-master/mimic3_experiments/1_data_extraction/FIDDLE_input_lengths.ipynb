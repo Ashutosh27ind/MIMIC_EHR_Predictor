{
 "cells": [
  {
   "cell_type": "code",
   "execution_count": 3,
   "metadata": {},
   "outputs": [],
   "source": [
    "import pandas as pd\n",
    "# import pickle"
   ]
  },
  {
   "cell_type": "code",
   "execution_count": 8,
   "metadata": {},
   "outputs": [
    {
     "name": "stdout",
     "output_type": "stream",
     "text": [
      "outcome=mortality,T=48.0,dt=1.0 46945553\n",
      "<class 'pandas.core.frame.DataFrame'>\n",
      "RangeIndex: 46945553 entries, 0 to 46945552\n",
      "Data columns (total 4 columns):\n",
      " #   Column          Dtype  \n",
      "---  ------          -----  \n",
      " 0   ID              int64  \n",
      " 1   t               float64\n",
      " 2   variable_name   object \n",
      " 3   variable_value  object \n",
      "dtypes: float64(1), int64(1), object(2)\n",
      "memory usage: 1.4+ GB\n",
      "\n",
      "benchmark,outcome=mortality,T=48.0,dt=1.0 46945553\n",
      "<class 'pandas.core.frame.DataFrame'>\n",
      "RangeIndex: 46945553 entries, 0 to 46945552\n",
      "Data columns (total 4 columns):\n",
      " #   Column          Dtype  \n",
      "---  ------          -----  \n",
      " 0   ID              int64  \n",
      " 1   t               float64\n",
      " 2   variable_name   object \n",
      " 3   variable_value  object \n",
      "dtypes: float64(1), int64(1), object(2)\n",
      "memory usage: 1.4+ GB\n",
      "\n"
     ]
    }
   ],
   "source": [
    "# Original Code:\n",
    "\n",
    "data_path = '/home/ec2-user/SageMaker/FIDDLE_experiments-master/mimic3_experiments/data/processed/features/'\n",
    "\n",
    "for d in [\n",
    "    #'outcome=ARF,T=4.0,dt=1.0',\n",
    "    #'outcome=ARF,T=12.0,dt=1.0',\n",
    "    #'outcome=Shock,T=4.0,dt=1.0',\n",
    "    'outcome=mortality,T=48.0,dt=1.0',\n",
    "    'benchmark,outcome=mortality,T=48.0,dt=1.0',\n",
    "]:\n",
    "    df = pd.read_pickle(data_path + d + '/input_data.p')\n",
    "    print(d, len(df))\n",
    "    df.info()\n",
    "    print()\n",
    "    "
   ]
  },
  {
   "cell_type": "code",
   "execution_count": 4,
   "metadata": {},
   "outputs": [],
   "source": []
  }
 ],
 "metadata": {
  "kernelspec": {
   "display_name": "conda_python3",
   "language": "python",
   "name": "conda_python3"
  },
  "language_info": {
   "codemirror_mode": {
    "name": "ipython",
    "version": 3
   },
   "file_extension": ".py",
   "mimetype": "text/x-python",
   "name": "python",
   "nbconvert_exporter": "python",
   "pygments_lexer": "ipython3",
   "version": "3.6.13"
  }
 },
 "nbformat": 4,
 "nbformat_minor": 2
}
