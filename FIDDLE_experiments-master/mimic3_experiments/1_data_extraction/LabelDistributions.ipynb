{
 "cells": [
  {
   "cell_type": "code",
   "execution_count": 1,
   "metadata": {},
   "outputs": [],
   "source": [
    "import pandas as pd\n",
    "import numpy as np\n",
    "import yaml\n",
    "\n",
    "data_path = yaml.full_load(open('../config.yaml'))['data_path']\n",
    "\n",
    "from matplotlib import pyplot as plt\n",
    "import matplotlib"
   ]
  },
  {
   "cell_type": "code",
   "execution_count": 2,
   "metadata": {},
   "outputs": [],
   "source": [
    "matplotlib.rcParams['figure.figsize'] = [8, 8]\n",
    "matplotlib.rcParams['font.size'] = 15"
   ]
  },
  {
   "cell_type": "code",
   "execution_count": 3,
   "metadata": {},
   "outputs": [],
   "source": [
    "def visualize_labels(df, task):\n",
    "    df['{}_ONSET_HOUR'.format(task)].plot.hist(bins=np.arange(-5, 75, 0.5), alpha=0.9)\n",
    "    plt.xlim(-4,100)\n",
    "    plt.xlabel('{} onset hour'.format(task))\n",
    "    plt.savefig('Onset_{}-histogram.png'.format(task), dpi=300)\n",
    "    plt.show()"
   ]
  },
  {
   "cell_type": "code",
   "execution_count": 4,
   "metadata": {},
   "outputs": [],
   "source": [
    "df_ARF   = pd.read_csv(data_path + 'labels/ARF.csv',   index_col='ICUSTAY_ID')\n",
    "df_Shock = pd.read_csv(data_path + 'labels/Shock.csv', index_col='ICUSTAY_ID')"
   ]
  },
  {
   "cell_type": "code",
   "execution_count": 5,
   "metadata": {},
   "outputs": [
    {
     "data": {
      "image/png": "[encoded data removed]",
      "text/plain": [
       "<Figure size 576x576 with 1 Axes>"
      ]
     },
     "metadata": {
      "needs_background": "light"
     },
     "output_type": "display_data"
    },
    {
     "data": {
      "image/png": "[encoded data removed]",
      "text/plain": [
       "<Figure size 576x576 with 1 Axes>"
      ]
     },
     "metadata": {
      "needs_background": "light"
     },
     "output_type": "display_data"
    }
   ],
   "source": [
    "visualize_labels(df_ARF, 'ARF')\n",
    "visualize_labels(df_Shock, 'Shock')"
   ]
  },
  {
   "cell_type": "markdown",
   "metadata": {},
   "source": [
    "---"
   ]
  },
  {
   "cell_type": "code",
   "execution_count": 6,
   "metadata": {},
   "outputs": [],
   "source": [
    "from datetime import timedelta\n",
    "cutoff_h = 4\n",
    "# Ashutosh update the correct path :\n",
    "mimic3_path = yaml.full_load(open('../config.yaml'))['mimic3_path']\n"
   ]
  },
  {
   "cell_type": "code",
   "execution_count": 7,
   "metadata": {},
   "outputs": [],
   "source": [
    "patients = pd.read_csv(mimic3_path + 'PATIENTS.csv', parse_dates=['DOB', 'DOD'], usecols=['SUBJECT_ID', 'DOB', 'DOD'])\n",
    "admissions = pd.read_csv(mimic3_path + 'ADMISSIONS.csv', parse_dates=['DEATHTIME'], usecols=['SUBJECT_ID', 'HADM_ID', 'DEATHTIME'])\n",
    "examples = pd.read_csv(data_path + 'prep/icustays_MV.csv', parse_dates=['INTIME', 'OUTTIME']).sort_values(by='ICUSTAY_ID') # Only Metavision\n",
    "\n",
    "examples = pd.merge(examples, patients, on='SUBJECT_ID', how='left')\n",
    "examples = pd.merge(examples, admissions, on=['SUBJECT_ID', 'HADM_ID'], how='left')\n",
    "# Ashutosh failing for date issue:\n",
    "examples['AGE'] = examples.apply(lambda x: (x.INTIME.to_pydatetime() - x['DOB']).total_seconds(), axis=1) / 3600 / 24 / 365.25\n",
    "\n",
    "examples['LOS'] = examples['LOS'] * 24 # Convert to hours"
   ]
  },
  {
   "cell_type": "code",
   "execution_count": 8,
   "metadata": {},
   "outputs": [
    {
     "data": {
      "text/html": [
       "<div>\n",
       "<style scoped>\n",
       "    .dataframe tbody tr th:only-of-type {\n",
       "        vertical-align: middle;\n",
       "    }\n",
       "\n",
       "    .dataframe tbody tr th {\n",
       "        vertical-align: top;\n",
       "    }\n",
       "\n",
       "    .dataframe thead th {\n",
       "        text-align: right;\n",
       "    }\n",
       "</style>\n",
       "<table border=\"1\" class=\"dataframe\">\n",
       "  <thead>\n",
       "    <tr style=\"text-align: right;\">\n",
       "      <th></th>\n",
       "      <th>LOS</th>\n",
       "    </tr>\n",
       "  </thead>\n",
       "  <tbody>\n",
       "    <tr>\n",
       "      <th>count</th>\n",
       "      <td>23620.000000</td>\n",
       "    </tr>\n",
       "    <tr>\n",
       "      <th>mean</th>\n",
       "      <td>3.593499</td>\n",
       "    </tr>\n",
       "    <tr>\n",
       "      <th>std</th>\n",
       "      <td>4.971162</td>\n",
       "    </tr>\n",
       "    <tr>\n",
       "      <th>min</th>\n",
       "      <td>0.000400</td>\n",
       "    </tr>\n",
       "    <tr>\n",
       "      <th>25%</th>\n",
       "      <td>1.151600</td>\n",
       "    </tr>\n",
       "    <tr>\n",
       "      <th>50%</th>\n",
       "      <td>1.996050</td>\n",
       "    </tr>\n",
       "    <tr>\n",
       "      <th>75%</th>\n",
       "      <td>3.835000</td>\n",
       "    </tr>\n",
       "    <tr>\n",
       "      <th>max</th>\n",
       "      <td>101.739000</td>\n",
       "    </tr>\n",
       "  </tbody>\n",
       "</table>\n",
       "</div>"
      ],
      "text/plain": [
       "                LOS\n",
       "count  23620.000000\n",
       "mean       3.593499\n",
       "std        4.971162\n",
       "min        0.000400\n",
       "25%        1.151600\n",
       "50%        1.996050\n",
       "75%        3.835000\n",
       "max      101.739000"
      ]
     },
     "execution_count": 8,
     "metadata": {},
     "output_type": "execute_result"
    }
   ],
   "source": [
    "(examples[['LOS']] / 24.).describe()"
   ]
  },
  {
   "cell_type": "code",
   "execution_count": 9,
   "metadata": {},
   "outputs": [],
   "source": [
    "# Remove non-adults\n",
    "min_age = 18\n",
    "max_age = np.inf # no max age\n",
    "examples = examples[(examples.AGE >= min_age) & (examples.AGE <= max_age)]"
   ]
  },
  {
   "cell_type": "code",
   "execution_count": 10,
   "metadata": {},
   "outputs": [
    {
     "data": {
      "text/plain": [
       "23593"
      ]
     },
     "execution_count": 10,
     "metadata": {},
     "output_type": "execute_result"
    }
   ],
   "source": [
    "examples['ICUSTAY_ID'].nunique()"
   ]
  },
  {
   "cell_type": "code",
   "execution_count": 11,
   "metadata": {},
   "outputs": [
    {
     "data": {
      "text/html": [
       "<div>\n",
       "<style scoped>\n",
       "    .dataframe tbody tr th:only-of-type {\n",
       "        vertical-align: middle;\n",
       "    }\n",
       "\n",
       "    .dataframe tbody tr th {\n",
       "        vertical-align: top;\n",
       "    }\n",
       "\n",
       "    .dataframe thead th {\n",
       "        text-align: right;\n",
       "    }\n",
       "</style>\n",
       "<table border=\"1\" class=\"dataframe\">\n",
       "  <thead>\n",
       "    <tr style=\"text-align: right;\">\n",
       "      <th></th>\n",
       "      <th>ICUSTAY_ID</th>\n",
       "      <th>DEATHTIME</th>\n",
       "      <th>INTIME</th>\n",
       "    </tr>\n",
       "  </thead>\n",
       "  <tbody>\n",
       "    <tr>\n",
       "      <th>10</th>\n",
       "      <td>200038</td>\n",
       "      <td>NaT</td>\n",
       "      <td>2143-10-24 20:35:24</td>\n",
       "    </tr>\n",
       "    <tr>\n",
       "      <th>11</th>\n",
       "      <td>200040</td>\n",
       "      <td>NaT</td>\n",
       "      <td>2153-10-24 16:01:41</td>\n",
       "    </tr>\n",
       "    <tr>\n",
       "      <th>12</th>\n",
       "      <td>200049</td>\n",
       "      <td>NaT</td>\n",
       "      <td>2118-08-28 08:56:44</td>\n",
       "    </tr>\n",
       "    <tr>\n",
       "      <th>13</th>\n",
       "      <td>200050</td>\n",
       "      <td>NaT</td>\n",
       "      <td>2149-07-14 17:51:18</td>\n",
       "    </tr>\n",
       "    <tr>\n",
       "      <th>14</th>\n",
       "      <td>200053</td>\n",
       "      <td>NaT</td>\n",
       "      <td>2166-02-27 18:45:49</td>\n",
       "    </tr>\n",
       "    <tr>\n",
       "      <th>...</th>\n",
       "      <td>...</td>\n",
       "      <td>...</td>\n",
       "      <td>...</td>\n",
       "    </tr>\n",
       "    <tr>\n",
       "      <th>23615</th>\n",
       "      <td>299956</td>\n",
       "      <td>NaT</td>\n",
       "      <td>2177-05-29 07:38:54</td>\n",
       "    </tr>\n",
       "    <tr>\n",
       "      <th>23616</th>\n",
       "      <td>299957</td>\n",
       "      <td>NaT</td>\n",
       "      <td>2132-10-13 10:41:17</td>\n",
       "    </tr>\n",
       "    <tr>\n",
       "      <th>23617</th>\n",
       "      <td>299962</td>\n",
       "      <td>NaT</td>\n",
       "      <td>2195-11-25 19:04:06</td>\n",
       "    </tr>\n",
       "    <tr>\n",
       "      <th>23618</th>\n",
       "      <td>299979</td>\n",
       "      <td>NaT</td>\n",
       "      <td>2127-12-05 02:16:42</td>\n",
       "    </tr>\n",
       "    <tr>\n",
       "      <th>23619</th>\n",
       "      <td>299998</td>\n",
       "      <td>NaT</td>\n",
       "      <td>2181-07-05 18:47:40</td>\n",
       "    </tr>\n",
       "  </tbody>\n",
       "</table>\n",
       "<p>23583 rows × 3 columns</p>\n",
       "</div>"
      ],
      "text/plain": [
       "       ICUSTAY_ID DEATHTIME              INTIME\n",
       "10         200038       NaT 2143-10-24 20:35:24\n",
       "11         200040       NaT 2153-10-24 16:01:41\n",
       "12         200049       NaT 2118-08-28 08:56:44\n",
       "13         200050       NaT 2149-07-14 17:51:18\n",
       "14         200053       NaT 2166-02-27 18:45:49\n",
       "...           ...       ...                 ...\n",
       "23615      299956       NaT 2177-05-29 07:38:54\n",
       "23616      299957       NaT 2132-10-13 10:41:17\n",
       "23617      299962       NaT 2195-11-25 19:04:06\n",
       "23618      299979       NaT 2127-12-05 02:16:42\n",
       "23619      299998       NaT 2181-07-05 18:47:40\n",
       "\n",
       "[23583 rows x 3 columns]"
      ]
     },
     "execution_count": 11,
     "metadata": {},
     "output_type": "execute_result"
    }
   ],
   "source": [
    "examples[['ICUSTAY_ID', 'DEATHTIME', 'INTIME']].iloc[10:]"
   ]
  },
  {
   "cell_type": "code",
   "execution_count": 15,
   "metadata": {},
   "outputs": [
    {
     "data": {
      "text/html": [
       "<div>\n",
       "<style scoped>\n",
       "    .dataframe tbody tr th:only-of-type {\n",
       "        vertical-align: middle;\n",
       "    }\n",
       "\n",
       "    .dataframe tbody tr th {\n",
       "        vertical-align: top;\n",
       "    }\n",
       "\n",
       "    .dataframe thead th {\n",
       "        text-align: right;\n",
       "    }\n",
       "</style>\n",
       "<table border=\"1\" class=\"dataframe\">\n",
       "  <thead>\n",
       "    <tr style=\"text-align: right;\">\n",
       "      <th></th>\n",
       "      <th>LOS</th>\n",
       "    </tr>\n",
       "  </thead>\n",
       "  <tbody>\n",
       "    <tr>\n",
       "      <th>count</th>\n",
       "      <td>23593.000000</td>\n",
       "    </tr>\n",
       "    <tr>\n",
       "      <th>mean</th>\n",
       "      <td>3.594510</td>\n",
       "    </tr>\n",
       "    <tr>\n",
       "      <th>std</th>\n",
       "      <td>4.972558</td>\n",
       "    </tr>\n",
       "    <tr>\n",
       "      <th>min</th>\n",
       "      <td>0.000400</td>\n",
       "    </tr>\n",
       "    <tr>\n",
       "      <th>25%</th>\n",
       "      <td>1.152000</td>\n",
       "    </tr>\n",
       "    <tr>\n",
       "      <th>50%</th>\n",
       "      <td>1.996300</td>\n",
       "    </tr>\n",
       "    <tr>\n",
       "      <th>75%</th>\n",
       "      <td>3.837300</td>\n",
       "    </tr>\n",
       "    <tr>\n",
       "      <th>max</th>\n",
       "      <td>101.739000</td>\n",
       "    </tr>\n",
       "  </tbody>\n",
       "</table>\n",
       "</div>"
      ],
      "text/plain": [
       "                LOS\n",
       "count  23593.000000\n",
       "mean       3.594510\n",
       "std        4.972558\n",
       "min        0.000400\n",
       "25%        1.152000\n",
       "50%        1.996300\n",
       "75%        3.837300\n",
       "max      101.739000"
      ]
     },
     "execution_count": 15,
     "metadata": {},
     "output_type": "execute_result"
    }
   ],
   "source": [
    "(examples[['LOS']] / 24.).describe()"
   ]
  },
  {
   "cell_type": "code",
   "execution_count": 12,
   "metadata": {},
   "outputs": [
    {
     "data": {
      "text/plain": [
       "27"
      ]
     },
     "execution_count": 12,
     "metadata": {},
     "output_type": "execute_result"
    }
   ],
   "source": [
    "# Death time < intime\n",
    "sum((examples['DEATHTIME'] - examples['INTIME']).dt.total_seconds() < 0)"
   ]
  },
  {
   "cell_type": "code",
   "execution_count": 13,
   "metadata": {},
   "outputs": [
    {
     "data": {
      "text/plain": [
       "count    2.359300e+04\n",
       "mean    -7.175857e-06\n",
       "std      6.949819e-04\n",
       "min     -1.200000e-03\n",
       "25%     -6.111111e-04\n",
       "50%     -7.105427e-15\n",
       "75%      5.888889e-04\n",
       "max      1.188889e-03\n",
       "dtype: float64"
      ]
     },
     "execution_count": 13,
     "metadata": {},
     "output_type": "execute_result"
    }
   ],
   "source": [
    "# LOS vs OUTTIME - INTIME\n",
    "((examples['OUTTIME'] - examples['INTIME']).dt.total_seconds() / 3600 - examples['LOS']).describe()"
   ]
  },
  {
   "cell_type": "code",
   "execution_count": 14,
   "metadata": {},
   "outputs": [
    {
     "data": {
      "image/png": "[encoded data removed]",
      "text/plain": [
       "<Figure size 576x576 with 1 Axes>"
      ]
     },
     "metadata": {
      "needs_background": "light"
     },
     "output_type": "display_data"
    }
   ],
   "source": [
    "((examples['DEATHTIME'] - examples['INTIME']).dt.total_seconds() / 3600).hist(bins=np.arange(-5, 200, 1), alpha=0.9)\n",
    "\n",
    "# Ashutosh define size and colour, save it :\n",
    "#fig = figure(figsize=(8, 6), dpi=80)\n",
    "#plt.figure(figsize=(8, 6), dpi=80)\n",
    "#fig.savefig('DaethVsICUStay.png', dpi=100)\n",
    "\n",
    "plt.xlabel('Survival time (h)')\n",
    "\n",
    "plt.ylabel('Number of ICU stays')\n",
    "\n",
    "# Ashutosh changed the colour : \n",
    "plt.text(80, 30, 'Death <= 200h: {}\\nDeath > 200h: {} (not shown) \\nDeath = null: {} (not shown)' \\\n",
    "         .format(sum(((examples['DEATHTIME'] - examples['INTIME']).dt.total_seconds() / 3600) <= 200), \n",
    "                 sum(((examples['DEATHTIME'] - examples['INTIME']).dt.total_seconds() / 3600) > 200),\n",
    "                sum(examples['DEATHTIME'].isnull())), color = 'orangered')\n",
    "\n",
    "# Ashutosh save figure :\n",
    "plt.savefig('ICUStaysVsSurvivalTime.svg')\n",
    "\n",
    "plt.show()"
   ]
  },
  {
   "cell_type": "code",
   "execution_count": 17,
   "metadata": {},
   "outputs": [
    {
     "data": {
      "text/plain": [
       "23593"
      ]
     },
     "execution_count": 17,
     "metadata": {},
     "output_type": "execute_result"
    }
   ],
   "source": [
    "examples['ICUSTAY_ID'].nunique()"
   ]
  },
  {
   "cell_type": "code",
   "execution_count": 18,
   "metadata": {},
   "outputs": [
    {
     "data": {
      "text/plain": [
       "(21439, 2154)"
      ]
     },
     "execution_count": 18,
     "metadata": {},
     "output_type": "execute_result"
    }
   ],
   "source": [
    "sum((examples['LOS']) <= 200), sum((examples['LOS']) > 200)"
   ]
  },
  {
   "cell_type": "code",
   "execution_count": 19,
   "metadata": {},
   "outputs": [
    {
     "data": {
      "image/png": "[encoded data removed]",
      "text/plain": [
       "<Figure size 576x576 with 1 Axes>"
      ]
     },
     "metadata": {
      "needs_background": "light"
     },
     "output_type": "display_data"
    }
   ],
   "source": [
    "(examples['LOS']).hist(bins=np.arange(-5, 200, 1), alpha=0.9)\n",
    "plt.xlabel('Length of stay (h)')\n",
    "plt.ylabel('Number of ICU stays')\n",
    "plt.text(80, 500, 'LOS <= 200h: {}\\nLOS > 200h: {} (not shown)'.format(sum((examples['LOS']) <= 200), sum((examples['LOS']) > 200)), color = 'orangered')\n",
    "\n",
    "\n",
    "# Ashutosh save figure :\n",
    "plt.savefig('ICUStaysVsLOS.svg')\n",
    "\n",
    "plt.show()"
   ]
  },
  {
   "cell_type": "code",
   "execution_count": 20,
   "metadata": {},
   "outputs": [],
   "source": [
    "# Remove died before cutoff hour\n",
    "examples = examples[(examples.DEATHTIME >= examples.INTIME + timedelta(hours=cutoff_h)) | (examples.DEATHTIME.isnull())]"
   ]
  },
  {
   "cell_type": "code",
   "execution_count": 21,
   "metadata": {},
   "outputs": [],
   "source": [
    "# Remove LOS < cutoff hour\n",
    "examples = examples[examples['LOS'] >= cutoff_h]"
   ]
  },
  {
   "cell_type": "code",
   "execution_count": null,
   "metadata": {},
   "outputs": [],
   "source": []
  }
 ],
 "metadata": {
  "kernelspec": {
   "display_name": "Python 3",
   "language": "python",
   "name": "python3"
  },
  "language_info": {
   "codemirror_mode": {
    "name": "ipython",
    "version": 3
   },
   "file_extension": ".py",
   "mimetype": "text/x-python",
   "name": "python",
   "nbconvert_exporter": "python",
   "pygments_lexer": "ipython3",
   "version": "3.8.8"
  }
 },
 "nbformat": 4,
 "nbformat_minor": 4
}
